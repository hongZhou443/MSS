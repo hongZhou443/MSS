{
 "cells": [
  {
   "cell_type": "code",
   "execution_count": 18,
   "metadata": {},
   "outputs": [],
   "source": [
    "import pandas as pd\n",
    "import numpy as np"
   ]
  },
  {
   "cell_type": "code",
   "execution_count": 6,
   "metadata": {},
   "outputs": [],
   "source": [
    "domain_mx = pd.read_csv(\"data/gov_mx_results.csv\").drop_duplicates()\n",
    "mx_ip = pd.read_csv(\"data/gov_mailserver_a_results.csv\").drop_duplicates()\n",
    "ip_geodata = pd.read_csv(\"data/gov_mailserver_geo.csv\").drop_duplicates()"
   ]
  },
  {
   "cell_type": "code",
   "execution_count": 2,
   "metadata": {},
   "outputs": [],
   "source": [
    "domain_mx = pd.read_csv(\"data/gov_mx_results.csv\")\n",
    "mx_ip = pd.read_csv(\"data/gov_mailserver_a_results.csv\")\n",
    "ip_geodata = pd.read_csv(\"data/gov_mailserver_geo.csv\")"
   ]
  },
  {
   "cell_type": "code",
   "execution_count": 5,
   "metadata": {},
   "outputs": [
    {
     "name": "stdout",
     "output_type": "stream",
     "text": [
      "(13879, 5) (13879, 5)\n",
      "(33869, 2) (23754, 2)\n",
      "(33867, 10) (2281, 10)\n"
     ]
    }
   ],
   "source": [
    "print(domain_mx.shape, domain_mx.drop_duplicates().shape)\n",
    "print(mx_ip.shape, mx_ip.drop_duplicates().shape)\n",
    "print(ip_geodata.shape, ip_geodata.drop_duplicates().shape)\n",
    "\n",
    "mx_ip.drop_duplicates().to_csv('data/gov_mailserver_a_results_clean.csv', index=False)\n",
    "ip_geodata.drop_duplicates().to_csv('data/gov_mailserver_geo_clean.csv', index=False)"
   ]
  },
  {
   "cell_type": "code",
   "execution_count": 28,
   "metadata": {},
   "outputs": [],
   "source": [
    "data_mx_ip = pd.merge(domain_mx, mx_ip, how=\"left\", left_on=\"exchange\", right_on=\"url\")\n",
    "data_mx_ip = data_mx_ip.drop(columns=[\"url_y\"]).rename(columns={\"url_x\": \"domain\"})\n",
    "data_ip_geo = pd.merge(mx_ip, ip_geodata, how=\"left\", left_on=\"ipv4\", right_on=\"ip\")\n",
    "data_ip_geo = data_ip_geo.drop(columns=[\"ip\"])"
   ]
  },
  {
   "cell_type": "code",
   "execution_count": 4,
   "metadata": {},
   "outputs": [
    {
     "name": "stdout",
     "output_type": "stream",
     "text": [
      "Unique .gov domains:  7391\n",
      "Unique Mailserver domains:  7471\n",
      "Unique Mailserver IPs:  2282\n",
      "Unique Mailserver locations:  524\n",
      "Locations in US:  504\n"
     ]
    }
   ],
   "source": [
    "gov_domains = domain_mx.url.unique()\n",
    "mailserver_domains = domain_mx.exchange.unique()\n",
    "mailserver_ips = mx_ip.ipv4.unique()\n",
    "mailserver_coords = ip_geodata[[\"country_name\", \"latitude\", \"longitude\"]].drop_duplicates()\n",
    "\n",
    "print(\"Unique .gov domains: \", len(gov_domains))\n",
    "print(\"Unique Mailserver domains: \", len(mailserver_domains))\n",
    "print(\"Unique Mailserver IPs: \", len(mailserver_ips))\n",
    "print(\"Unique Mailserver locations: \", mailserver_coords.shape[0])\n",
    "print(\"Locations in US: \", mailserver_coords[mailserver_coords[\"country_name\"] == \"United States\"].shape[0])"
   ]
  },
  {
   "cell_type": "code",
   "execution_count": 5,
   "metadata": {},
   "outputs": [],
   "source": [
    "try:  \n",
    "    mailserver_coords= mailserver_coords.reset_index()\n",
    "except:\n",
    "    print(\"already reset!\")\n",
    "\n",
    "locations = []\n",
    "location_to_ip = dict()\n",
    "for i in range(0, mailserver_coords.shape[0]):\n",
    "    loc = mailserver_coords.loc[i]\n",
    "    ips = ip_geodata[ip_geodata[\"latitude\"] == loc[\"latitude\"]]\n",
    "    ips = ips[ips[\"longitude\"] == loc[\"longitude\"]]\n",
    "    coord = loc[\"latitude\"], loc[\"longitude\"]\n",
    "    locations.append(coord)\n",
    "    location_to_ip[coord] = ips"
   ]
  },
  {
   "cell_type": "code",
   "execution_count": 6,
   "metadata": {},
   "outputs": [],
   "source": [
    "loc_ip_data_summ = []\n",
    "for location in locations:\n",
    "    num = len(location_to_ip[location])\n",
    "    loc_ip_data_summ.append([location, num])\n",
    "\n",
    "loc_ip_data_summ_df = pd.DataFrame(loc_ip_data_summ, columns=['Location', '# IPs'])"
   ]
  },
  {
   "cell_type": "code",
   "execution_count": 36,
   "metadata": {},
   "outputs": [],
   "source": [
    "valid_locations = loc_ip_data_summ_df.sort_values(by=['# IPs'], ascending=False).drop(4).drop(152).reset_index().drop(columns=[\"index\"])"
   ]
  },
  {
   "cell_type": "code",
   "execution_count": 29,
   "metadata": {},
   "outputs": [
    {
     "name": "stdout",
     "output_type": "stream",
     "text": [
      "Total IPs:  522\n",
      "Number of locations with greater than 5 IPs:  22\n",
      "Number of locations with 5 IPs:  4\n",
      "Number of locations with 4 IPs:  6\n",
      "Number of locations with 3 IPs:  31\n",
      "Number of locations with 2 IPs:  100\n",
      "Number of locations with 1 IP:  359\n"
     ]
    }
   ],
   "source": [
    "print(\"Total IPs: \", valid_locations.shape[0])\n",
    "print(\"Number of locations with greater than 5 IPs: \", valid_locations[valid_locations[\"# IPs\"] > 5].shape[0])\n",
    "print(\"Number of locations with 5 IPs: \", valid_locations[valid_locations[\"# IPs\"] == 5].shape[0])\n",
    "print(\"Number of locations with 4 IPs: \", valid_locations[valid_locations[\"# IPs\"] == 4].shape[0])\n",
    "print(\"Number of locations with 3 IPs: \", valid_locations[valid_locations[\"# IPs\"] == 3].shape[0])\n",
    "print(\"Number of locations with 2 IPs: \", valid_locations[valid_locations[\"# IPs\"] == 2].shape[0])\n",
    "print(\"Number of locations with 1 IP: \", valid_locations[valid_locations[\"# IPs\"] == 1].shape[0])"
   ]
  },
  {
   "cell_type": "code",
   "execution_count": 29,
   "metadata": {},
   "outputs": [
    {
     "data": {
      "text/html": [
       "<div>\n",
       "<style scoped>\n",
       "    .dataframe tbody tr th:only-of-type {\n",
       "        vertical-align: middle;\n",
       "    }\n",
       "\n",
       "    .dataframe tbody tr th {\n",
       "        vertical-align: top;\n",
       "    }\n",
       "\n",
       "    .dataframe thead th {\n",
       "        text-align: right;\n",
       "    }\n",
       "</style>\n",
       "<table border=\"1\" class=\"dataframe\">\n",
       "  <thead>\n",
       "    <tr style=\"text-align: right;\">\n",
       "      <th></th>\n",
       "      <th>url</th>\n",
       "      <th>ipv4</th>\n",
       "      <th>city_name</th>\n",
       "      <th>country_name</th>\n",
       "      <th>country_iso_code</th>\n",
       "      <th>most_specific_name</th>\n",
       "      <th>most_specific_iso_code</th>\n",
       "      <th>latitude</th>\n",
       "      <th>longitude</th>\n",
       "      <th>postal</th>\n",
       "      <th>network</th>\n",
       "    </tr>\n",
       "  </thead>\n",
       "  <tbody>\n",
       "    <tr>\n",
       "      <th>0</th>\n",
       "      <td>59dcmi-gov.mail.protection.outlook.com.</td>\n",
       "      <td>52.101.9.5</td>\n",
       "      <td>Washington</td>\n",
       "      <td>United States</td>\n",
       "      <td>US</td>\n",
       "      <td>Virginia</td>\n",
       "      <td>VA</td>\n",
       "      <td>38.7095</td>\n",
       "      <td>-78.1539</td>\n",
       "      <td>22747</td>\n",
       "      <td>52.101.9.0/24</td>\n",
       "    </tr>\n",
       "    <tr>\n",
       "      <th>1</th>\n",
       "      <td>59dcmi-gov.mail.protection.outlook.com.</td>\n",
       "      <td>52.101.42.13</td>\n",
       "      <td>NaN</td>\n",
       "      <td>United States</td>\n",
       "      <td>US</td>\n",
       "      <td>Washington</td>\n",
       "      <td>WA</td>\n",
       "      <td>47.6034</td>\n",
       "      <td>-122.3414</td>\n",
       "      <td>NaN</td>\n",
       "      <td>52.101.42.0/24</td>\n",
       "    </tr>\n",
       "    <tr>\n",
       "      <th>2</th>\n",
       "      <td>59dcmi-gov.mail.protection.outlook.com.</td>\n",
       "      <td>52.101.41.4</td>\n",
       "      <td>San Jose</td>\n",
       "      <td>United States</td>\n",
       "      <td>US</td>\n",
       "      <td>California</td>\n",
       "      <td>CA</td>\n",
       "      <td>37.1835</td>\n",
       "      <td>-121.7714</td>\n",
       "      <td>95141</td>\n",
       "      <td>52.101.41.0/24</td>\n",
       "    </tr>\n",
       "    <tr>\n",
       "      <th>3</th>\n",
       "      <td>59dcmi-gov.mail.protection.outlook.com.</td>\n",
       "      <td>52.101.9.2</td>\n",
       "      <td>Washington</td>\n",
       "      <td>United States</td>\n",
       "      <td>US</td>\n",
       "      <td>Virginia</td>\n",
       "      <td>VA</td>\n",
       "      <td>38.7095</td>\n",
       "      <td>-78.1539</td>\n",
       "      <td>22747</td>\n",
       "      <td>52.101.9.0/24</td>\n",
       "    </tr>\n",
       "    <tr>\n",
       "      <th>4</th>\n",
       "      <td>59dcmi-gov.mail.protection.outlook.com.</td>\n",
       "      <td>52.101.9.11</td>\n",
       "      <td>Washington</td>\n",
       "      <td>United States</td>\n",
       "      <td>US</td>\n",
       "      <td>Virginia</td>\n",
       "      <td>VA</td>\n",
       "      <td>38.7095</td>\n",
       "      <td>-78.1539</td>\n",
       "      <td>22747</td>\n",
       "      <td>52.101.9.0/24</td>\n",
       "    </tr>\n",
       "  </tbody>\n",
       "</table>\n",
       "</div>"
      ],
      "text/plain": [
       "                                       url          ipv4   city_name  \\\n",
       "0  59dcmi-gov.mail.protection.outlook.com.    52.101.9.5  Washington   \n",
       "1  59dcmi-gov.mail.protection.outlook.com.  52.101.42.13         NaN   \n",
       "2  59dcmi-gov.mail.protection.outlook.com.   52.101.41.4    San Jose   \n",
       "3  59dcmi-gov.mail.protection.outlook.com.    52.101.9.2  Washington   \n",
       "4  59dcmi-gov.mail.protection.outlook.com.   52.101.9.11  Washington   \n",
       "\n",
       "    country_name country_iso_code most_specific_name most_specific_iso_code  \\\n",
       "0  United States               US           Virginia                     VA   \n",
       "1  United States               US         Washington                     WA   \n",
       "2  United States               US         California                     CA   \n",
       "3  United States               US           Virginia                     VA   \n",
       "4  United States               US           Virginia                     VA   \n",
       "\n",
       "   latitude  longitude postal         network  \n",
       "0   38.7095   -78.1539  22747   52.101.9.0/24  \n",
       "1   47.6034  -122.3414    NaN  52.101.42.0/24  \n",
       "2   37.1835  -121.7714  95141  52.101.41.0/24  \n",
       "3   38.7095   -78.1539  22747   52.101.9.0/24  \n",
       "4   38.7095   -78.1539  22747   52.101.9.0/24  "
      ]
     },
     "execution_count": 29,
     "metadata": {},
     "output_type": "execute_result"
    }
   ],
   "source": [
    "data_ip_geo.head(5)"
   ]
  },
  {
   "cell_type": "code",
   "execution_count": 31,
   "metadata": {},
   "outputs": [],
   "source": [
    "url_to_loc = []\n",
    "for url in domain_mx[\"url\"].unique():\n",
    "    mx_domains = domain_mx[domain_mx[\"url\"] == url][\"exchange\"].to_numpy()\n",
    "    #mx_ips = mx_ip[mx_ip[\"url\"].isin(mx_domains)][\"ipv4\"].to_numpy()\n",
    "    count = data_ip_geo[data_ip_geo[\"url\"].isin(mx_domains)].shape[0]\n",
    "    url_to_loc.append([url, count])"
   ]
  },
  {
   "cell_type": "code",
   "execution_count": 33,
   "metadata": {},
   "outputs": [],
   "source": [
    "url_to_loc_df = pd.DataFrame(url_to_loc, columns=['url', '# Locations'])"
   ]
  },
  {
   "cell_type": "code",
   "execution_count": null,
   "metadata": {},
   "outputs": [],
   "source": [
    "url_to_loc_df.to_csv('data/domain_location_count.csv', index=False)"
   ]
  }
 ],
 "metadata": {
  "kernelspec": {
   "display_name": ".venv",
   "language": "python",
   "name": "python3"
  },
  "language_info": {
   "codemirror_mode": {
    "name": "ipython",
    "version": 3
   },
   "file_extension": ".py",
   "mimetype": "text/x-python",
   "name": "python",
   "nbconvert_exporter": "python",
   "pygments_lexer": "ipython3",
   "version": "3.11.3"
  }
 },
 "nbformat": 4,
 "nbformat_minor": 2
}
