{
 "cells": [
  {
   "cell_type": "code",
   "execution_count": 1,
   "metadata": {},
   "outputs": [
    {
     "name": "stderr",
     "output_type": "stream",
     "text": [
      "C:\\Users\\ksbso\\AppData\\Local\\Temp\\ipykernel_19712\\4080736814.py:1: DeprecationWarning: \n",
      "Pyarrow will become a required dependency of pandas in the next major release of pandas (pandas 3.0),\n",
      "(to allow more performant data types, such as the Arrow string type, and better interoperability with other libraries)\n",
      "but was not found to be installed on your system.\n",
      "If this would cause problems for you,\n",
      "please provide us feedback at https://github.com/pandas-dev/pandas/issues/54466\n",
      "        \n",
      "  import pandas as pd\n"
     ]
    }
   ],
   "source": [
    "import pandas as pd"
   ]
  },
  {
   "cell_type": "code",
   "execution_count": 2,
   "metadata": {},
   "outputs": [],
   "source": [
    "domain_mx = pd.read_csv(\"data/gov_mx_results.csv\").drop_duplicates()\n",
    "mx_ip = pd.read_csv(\"data/gov_mailserver_a_results.csv\").drop_duplicates()\n",
    "ip_geodata = pd.read_csv(\"data/gov_mailserver_geo.csv\").drop_duplicates()"
   ]
  },
  {
   "cell_type": "code",
   "execution_count": 3,
   "metadata": {},
   "outputs": [],
   "source": [
    "data_mx_ip = pd.merge(domain_mx, mx_ip, how=\"left\", left_on=\"exchange\", right_on=\"url\")\n",
    "data_mx_ip = data_mx_ip.drop(columns=[\"url_y\"]).rename(columns={\"url_x\": \"domain\"})\n",
    "data_ip_geo = pd.merge(mx_ip, ip_geodata, how=\"left\", left_on=\"ipv4\", right_on=\"ip\")\n",
    "data_ip_geo = data_ip_geo.drop(columns=[\"ip\"])"
   ]
  },
  {
   "cell_type": "code",
   "execution_count": 4,
   "metadata": {},
   "outputs": [
    {
     "name": "stdout",
     "output_type": "stream",
     "text": [
      "Unique .gov domains:  7391\n",
      "Unique Mailserver domains:  7471\n",
      "Unique Mailserver IPs:  2282\n",
      "Unique Mailserver locations:  524\n",
      "Locations in US:  504\n"
     ]
    }
   ],
   "source": [
    "gov_domains = domain_mx.url.unique()\n",
    "mailserver_domains = domain_mx.exchange.unique()\n",
    "mailserver_ips = mx_ip.ipv4.unique()\n",
    "mailserver_coords = ip_geodata[[\"country_name\", \"latitude\", \"longitude\"]].drop_duplicates()\n",
    "\n",
    "print(\"Unique .gov domains: \", len(gov_domains))\n",
    "print(\"Unique Mailserver domains: \", len(mailserver_domains))\n",
    "print(\"Unique Mailserver IPs: \", len(mailserver_ips))\n",
    "print(\"Unique Mailserver locations: \", mailserver_coords.shape[0])\n",
    "print(\"Locations in US: \", mailserver_coords[mailserver_coords[\"country_name\"] == \"United States\"].shape[0])"
   ]
  },
  {
   "cell_type": "code",
   "execution_count": 5,
   "metadata": {},
   "outputs": [],
   "source": [
    "try:  \n",
    "    mailserver_coords= mailserver_coords.reset_index()\n",
    "except:\n",
    "    print(\"already reset!\")\n",
    "\n",
    "locations = []\n",
    "location_to_ip = dict()\n",
    "for i in range(0, mailserver_coords.shape[0]):\n",
    "    loc = mailserver_coords.loc[i]\n",
    "    ips = ip_geodata[ip_geodata[\"latitude\"] == loc[\"latitude\"]]\n",
    "    ips = ips[ips[\"longitude\"] == loc[\"longitude\"]]\n",
    "    coord = loc[\"latitude\"], loc[\"longitude\"]\n",
    "    locations.append(coord)\n",
    "    location_to_ip[coord] = ips"
   ]
  },
  {
   "cell_type": "code",
   "execution_count": 6,
   "metadata": {},
   "outputs": [],
   "source": [
    "loc_ip_data_summ = []\n",
    "for location in locations:\n",
    "    num = len(location_to_ip[location])\n",
    "    loc_ip_data_summ.append([location, num])\n",
    "\n",
    "loc_ip_data_summ_df = pd.DataFrame(loc_ip_data_summ, columns=['Location', '# IPs'])"
   ]
  },
  {
   "cell_type": "code",
   "execution_count": 35,
   "metadata": {},
   "outputs": [
    {
     "data": {
      "text/html": [
       "<div>\n",
       "<style scoped>\n",
       "    .dataframe tbody tr th:only-of-type {\n",
       "        vertical-align: middle;\n",
       "    }\n",
       "\n",
       "    .dataframe tbody tr th {\n",
       "        vertical-align: top;\n",
       "    }\n",
       "\n",
       "    .dataframe thead th {\n",
       "        text-align: right;\n",
       "    }\n",
       "</style>\n",
       "<table border=\"1\" class=\"dataframe\">\n",
       "  <thead>\n",
       "    <tr style=\"text-align: right;\">\n",
       "      <th></th>\n",
       "      <th>Location</th>\n",
       "      <th># IPs</th>\n",
       "    </tr>\n",
       "  </thead>\n",
       "  <tbody>\n",
       "    <tr>\n",
       "      <th>0</th>\n",
       "      <td>(34.0544, -118.244)</td>\n",
       "      <td>169</td>\n",
       "    </tr>\n",
       "    <tr>\n",
       "      <th>1</th>\n",
       "      <td>(39.0469, -77.4903)</td>\n",
       "      <td>79</td>\n",
       "    </tr>\n",
       "    <tr>\n",
       "      <th>2</th>\n",
       "      <td>(45.8234, -119.7257)</td>\n",
       "      <td>41</td>\n",
       "    </tr>\n",
       "    <tr>\n",
       "      <th>3</th>\n",
       "      <td>(39.9625, -83.0061)</td>\n",
       "      <td>38</td>\n",
       "    </tr>\n",
       "    <tr>\n",
       "      <th>4</th>\n",
       "      <td>(45.1701, -93.1913)</td>\n",
       "      <td>38</td>\n",
       "    </tr>\n",
       "    <tr>\n",
       "      <th>5</th>\n",
       "      <td>(43.6319, -79.3716)</td>\n",
       "      <td>38</td>\n",
       "    </tr>\n",
       "    <tr>\n",
       "      <th>6</th>\n",
       "      <td>(37.1835, -121.7714)</td>\n",
       "      <td>23</td>\n",
       "    </tr>\n",
       "    <tr>\n",
       "      <th>7</th>\n",
       "      <td>(49.2732, -123.0124)</td>\n",
       "      <td>16</td>\n",
       "    </tr>\n",
       "    <tr>\n",
       "      <th>8</th>\n",
       "      <td>(38.7095, -78.1539)</td>\n",
       "      <td>13</td>\n",
       "    </tr>\n",
       "    <tr>\n",
       "      <th>9</th>\n",
       "      <td>(41.6021, -93.6124)</td>\n",
       "      <td>12</td>\n",
       "    </tr>\n",
       "    <tr>\n",
       "      <th>10</th>\n",
       "      <td>(36.6534, -78.375)</td>\n",
       "      <td>12</td>\n",
       "    </tr>\n",
       "    <tr>\n",
       "      <th>11</th>\n",
       "      <td>(38.9034, -76.9882)</td>\n",
       "      <td>9</td>\n",
       "    </tr>\n",
       "    <tr>\n",
       "      <th>12</th>\n",
       "      <td>(39.2909, -76.6096)</td>\n",
       "      <td>9</td>\n",
       "    </tr>\n",
       "    <tr>\n",
       "      <th>13</th>\n",
       "      <td>(29.4227, -98.4927)</td>\n",
       "      <td>8</td>\n",
       "    </tr>\n",
       "    <tr>\n",
       "      <th>14</th>\n",
       "      <td>(47.6034, -122.3414)</td>\n",
       "      <td>8</td>\n",
       "    </tr>\n",
       "    <tr>\n",
       "      <th>15</th>\n",
       "      <td>(42.3972, -71.2434)</td>\n",
       "      <td>7</td>\n",
       "    </tr>\n",
       "    <tr>\n",
       "      <th>16</th>\n",
       "      <td>(41.1446, -104.8116)</td>\n",
       "      <td>7</td>\n",
       "    </tr>\n",
       "    <tr>\n",
       "      <th>17</th>\n",
       "      <td>(39.0015, -77.0961)</td>\n",
       "      <td>6</td>\n",
       "    </tr>\n",
       "    <tr>\n",
       "      <th>18</th>\n",
       "      <td>(44.3747, -89.8035)</td>\n",
       "      <td>6</td>\n",
       "    </tr>\n",
       "    <tr>\n",
       "      <th>19</th>\n",
       "      <td>(40.5921, -74.6238)</td>\n",
       "      <td>6</td>\n",
       "    </tr>\n",
       "    <tr>\n",
       "      <th>20</th>\n",
       "      <td>(48.8582, 2.3387)</td>\n",
       "      <td>6</td>\n",
       "    </tr>\n",
       "    <tr>\n",
       "      <th>21</th>\n",
       "      <td>(48.8323, 2.4075)</td>\n",
       "      <td>6</td>\n",
       "    </tr>\n",
       "  </tbody>\n",
       "</table>\n",
       "</div>"
      ],
      "text/plain": [
       "                Location  # IPs\n",
       "0    (34.0544, -118.244)    169\n",
       "1    (39.0469, -77.4903)     79\n",
       "2   (45.8234, -119.7257)     41\n",
       "3    (39.9625, -83.0061)     38\n",
       "4    (45.1701, -93.1913)     38\n",
       "5    (43.6319, -79.3716)     38\n",
       "6   (37.1835, -121.7714)     23\n",
       "7   (49.2732, -123.0124)     16\n",
       "8    (38.7095, -78.1539)     13\n",
       "9    (41.6021, -93.6124)     12\n",
       "10    (36.6534, -78.375)     12\n",
       "11   (38.9034, -76.9882)      9\n",
       "12   (39.2909, -76.6096)      9\n",
       "13   (29.4227, -98.4927)      8\n",
       "14  (47.6034, -122.3414)      8\n",
       "15   (42.3972, -71.2434)      7\n",
       "16  (41.1446, -104.8116)      7\n",
       "17   (39.0015, -77.0961)      6\n",
       "18   (44.3747, -89.8035)      6\n",
       "19   (40.5921, -74.6238)      6\n",
       "20     (48.8582, 2.3387)      6\n",
       "21     (48.8323, 2.4075)      6"
      ]
     },
     "execution_count": 35,
     "metadata": {},
     "output_type": "execute_result"
    }
   ],
   "source": [
    "valid_locations = loc_ip_data_summ_df.sort_values(by=['# IPs'], ascending=False).drop(4).drop(152).reset_index().drop(columns=[\"index\"])\n",
    "valid_locations.head(22)"
   ]
  },
  {
   "cell_type": "code",
   "execution_count": 29,
   "metadata": {},
   "outputs": [
    {
     "name": "stdout",
     "output_type": "stream",
     "text": [
      "Total IPs:  522\n",
      "Number of locations with greater than 5 IPs:  22\n",
      "Number of locations with 5 IPs:  4\n",
      "Number of locations with 4 IPs:  6\n",
      "Number of locations with 3 IPs:  31\n",
      "Number of locations with 2 IPs:  100\n",
      "Number of locations with 1 IP:  359\n"
     ]
    }
   ],
   "source": [
    "print(\"Total IPs: \", valid_locations.shape[0])\n",
    "print(\"Number of locations with greater than 5 IPs: \", valid_locations[valid_locations[\"# IPs\"] > 5].shape[0])\n",
    "print(\"Number of locations with 5 IPs: \", valid_locations[valid_locations[\"# IPs\"] == 5].shape[0])\n",
    "print(\"Number of locations with 4 IPs: \", valid_locations[valid_locations[\"# IPs\"] == 4].shape[0])\n",
    "print(\"Number of locations with 3 IPs: \", valid_locations[valid_locations[\"# IPs\"] == 3].shape[0])\n",
    "print(\"Number of locations with 2 IPs: \", valid_locations[valid_locations[\"# IPs\"] == 2].shape[0])\n",
    "print(\"Number of locations with 1 IP: \", valid_locations[valid_locations[\"# IPs\"] == 1].shape[0])"
   ]
  }
 ],
 "metadata": {
  "kernelspec": {
   "display_name": ".venv",
   "language": "python",
   "name": "python3"
  },
  "language_info": {
   "codemirror_mode": {
    "name": "ipython",
    "version": 3
   },
   "file_extension": ".py",
   "mimetype": "text/x-python",
   "name": "python",
   "nbconvert_exporter": "python",
   "pygments_lexer": "ipython3",
   "version": "3.11.3"
  }
 },
 "nbformat": 4,
 "nbformat_minor": 2
}
